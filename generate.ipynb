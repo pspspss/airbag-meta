{
 "cells": [
  {
   "cell_type": "code",
   "execution_count": 84,
   "metadata": {},
   "outputs": [],
   "source": [
    "file = [1] * 8*4*1024"
   ]
  },
  {
   "cell_type": "code",
   "execution_count": 85,
   "metadata": {},
   "outputs": [],
   "source": [
    "f = open('/home/pstwh/.wine/dosdevices/c:/users/pstwh/Área de Trabalho/e320file.bin', 'wb')\n",
    "f.write(bytearray(file))\n",
    "f.close()"
   ]
  },
  {
   "cell_type": "code",
   "execution_count": null,
   "metadata": {},
   "outputs": [],
   "source": [
    " INFO SC BE07BD57BD57BD54 MK L52H"
   ]
  },
  {
   "cell_type": "code",
   "execution_count": null,
   "metadata": {},
   "outputs": [],
   "source": [
    "#incorreto\n",
    "VAG - 6Q0 909 605 T  Siemens - MP 68HC908AZ60\n",
    "VAG - 8L0 959 655 A Bosch 0 285 001 174 - MP 68HC11KA4\n",
    "Fiat Idea - TRW 51765169 - EEPROM 95160\n",
    "Fiat Punto III - TRW 51719095 - EEPROM 24LC04\n",
    "Ford Escape - 5L84 14B321 DE - EEPROM 95160\n",
    "Ford Fiesta - Siemens 2S6A 14B056 AA - EEPROM 95160\n",
    "Ford Fiesta - Siemens 2S6T 14B056 EM - EEPROM 95160\n",
    "Ford Fusion - Siemens 2S6T 14B056 EM - EEPROM 95160\n",
    "Ford Fusion - Siemens 2S6T 14B056 EN  5WK43103 - EEPROM 95160\n",
    "Ford Mondeo - AS7T 14B321 AC - EEPROM 95320\n",
    "Ford Transit - Bosch 0 285 001 393 - MP HC12BE32\n",
    "Chevrolet Aveo - 96 430 714 - EEPROM 95080\n",
    "Chevrolet Cavalier - 22 674 098 - MP 68HC908AS20\n",
    "Chrysler - Termic 001 820 21 26 - MP 68HC11KA4"
   ]
  },
  {
   "cell_type": "code",
   "execution_count": null,
   "metadata": {},
   "outputs": [],
   "source": [
    "ACURA\n",
    "ALFA ROMEO\n",
    "AUDI SEAT SKODA VW\n",
    "BUICK\n",
    "FORD\n",
    "FIAT\n",
    "CADDILLAC\n",
    "CHEVROLET\n",
    "CHRYSLER\n",
    "CITROEN\n",
    "DACIA\n",
    "DAIHATSU\n",
    "DODGE"
   ]
  },
  {
   "cell_type": "code",
   "execution_count": 14,
   "metadata": {},
   "outputs": [],
   "source": [
    "import json"
   ]
  },
  {
   "cell_type": "code",
   "execution_count": 596,
   "metadata": {},
   "outputs": [
    {
     "name": "stdout",
     "output_type": "stream",
     "text": [
      "0: 1 => 0\n",
      "1: 1 => 0\n",
      "2: 1 => 0\n",
      "3: 1 => 0\n",
      "4: 1 => 0\n",
      "5: 1 => 0\n",
      "6: 1 => 0\n",
      "7: 1 => 0\n",
      "8: 1 => 0\n",
      "9: 1 => 0\n",
      "10: 1 => 0\n",
      "11: 1 => 0\n",
      "12: 1 => 0\n",
      "13: 1 => 0\n",
      "14: 1 => 0\n",
      "15: 1 => 255\n",
      "16: 1 => 255\n",
      "17: 1 => 255\n",
      "18: 1 => 255\n",
      "19: 1 => 255\n",
      "20: 1 => 255\n",
      "21: 1 => 255\n",
      "22: 1 => 255\n",
      "23: 1 => 255\n",
      "24: 1 => 255\n",
      "25: 1 => 255\n",
      "26: 1 => 255\n",
      "27: 1 => 255\n",
      "28: 1 => 255\n",
      "29: 1 => 255\n",
      "30: 1 => 255\n",
      "31: 1 => 255\n",
      "46: 1 => 0\n",
      "52: 1 => 255\n",
      "53: 1 => 255\n",
      "54: 1 => 255\n",
      "55: 1 => 255\n",
      "56: 1 => 255\n",
      "57: 1 => 255\n",
      "58: 1 => 255\n",
      "59: 1 => 255\n",
      "60: 1 => 255\n",
      "61: 1 => 255\n",
      "62: 1 => 255\n",
      "63: 1 => 255\n",
      "64: 1 => 255\n",
      "65: 1 => 255\n",
      "66: 1 => 255\n",
      "67: 1 => 255\n",
      "68: 1 => 255\n",
      "69: 1 => 255\n",
      "70: 1 => 255\n",
      "71: 1 => 255\n",
      "72: 1 => 255\n",
      "73: 1 => 255\n",
      "74: 1 => 255\n",
      "75: 1 => 255\n",
      "76: 1 => 255\n",
      "77: 1 => 255\n",
      "78: 1 => 255\n",
      "79: 1 => 255\n",
      "80: 1 => 255\n",
      "81: 1 => 255\n",
      "82: 1 => 255\n",
      "83: 1 => 255\n",
      "84: 1 => 255\n",
      "85: 1 => 255\n",
      "86: 1 => 255\n",
      "87: 1 => 255\n",
      "88: 1 => 255\n",
      "89: 1 => 255\n",
      "90: 1 => 255\n",
      "91: 1 => 255\n",
      "92: 1 => 255\n",
      "93: 1 => 255\n",
      "94: 1 => 255\n",
      "95: 1 => 255\n",
      "96: 1 => 255\n",
      "97: 1 => 255\n",
      "98: 1 => 255\n",
      "99: 1 => 255\n",
      "100: 1 => 255\n",
      "101: 1 => 255\n",
      "102: 1 => 255\n",
      "103: 1 => 255\n",
      "104: 1 => 255\n",
      "105: 1 => 255\n",
      "106: 1 => 255\n",
      "107: 1 => 255\n",
      "108: 1 => 255\n",
      "109: 1 => 255\n",
      "110: 1 => 255\n",
      "111: 1 => 255\n",
      "112: 1 => 255\n",
      "113: 1 => 255\n"
     ]
    }
   ],
   "source": [
    "dd = \"/home/pstwh/.wine/dosdevices/c:/users/pstwh/Área de Trabalho\"\n",
    "brand = \"HONDA - \"\n",
    "name = \"Honda - 77960-S84-A74-M2 - EEPROM 24C01\"\n",
    "clean = open(f'{dd}/xxx.bin', 'rb')\n",
    "notclean = open(f'{dd}/file.bin', 'rb')\n",
    "result = zip(clean.read(), notclean.read())\n",
    "r = '['\n",
    "for idx, (c, n) in enumerate(result):\n",
    "    if(c != n):\n",
    "        r += f'[{idx},{c}],'\n",
    "        print(f\"{idx}: {n} => {c}\")\n",
    "r = r[:-1]\n",
    "r += ']'\n",
    "\n",
    "with open(f'{brand}{name}.json', 'w') as f:\n",
    "    f.write(r)\n"
   ]
  },
  {
   "cell_type": "code",
   "execution_count": null,
   "metadata": {},
   "outputs": [],
   "source": []
  }
 ],
 "metadata": {
  "kernelspec": {
   "display_name": "Python 3",
   "language": "python",
   "name": "python3"
  },
  "language_info": {
   "codemirror_mode": {
    "name": "ipython",
    "version": 3
   },
   "file_extension": ".py",
   "mimetype": "text/x-python",
   "name": "python",
   "nbconvert_exporter": "python",
   "pygments_lexer": "ipython3",
   "version": "3.7.6"
  }
 },
 "nbformat": 4,
 "nbformat_minor": 4
}
