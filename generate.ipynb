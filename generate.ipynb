{
 "cells": [
  {
   "cell_type": "code",
   "execution_count": 10,
   "metadata": {},
   "outputs": [],
   "source": [
    "file = [1] * 128*1024"
   ]
  },
  {
   "cell_type": "code",
   "execution_count": 11,
   "metadata": {},
   "outputs": [],
   "source": [
    "f = open('file.bin', 'wb')\n",
    "f.write(bytearray(file))\n",
    "f.close()"
   ]
  },
  {
   "cell_type": "code",
   "execution_count": null,
   "metadata": {},
   "outputs": [],
   "source": [
    " INFO SC BE07BD57BD57BD54 MK L52H"
   ]
  },
  {
   "cell_type": "code",
   "execution_count": null,
   "metadata": {},
   "outputs": [],
   "source": [
    "#incorreto\n",
    "VAG - 6Q0 909 605 T  Siemens - MP 68HC908AZ60\n"
   ]
  },
  {
   "cell_type": "code",
   "execution_count": 14,
   "metadata": {},
   "outputs": [],
   "source": [
    "import json"
   ]
  },
  {
   "cell_type": "code",
   "execution_count": 50,
   "metadata": {},
   "outputs": [
    {
     "name": "stdout",
     "output_type": "stream",
     "text": [
      "232: 1 => 255\n",
      "233: 1 => 255\n",
      "234: 1 => 255\n",
      "235: 1 => 255\n",
      "236: 1 => 255\n",
      "237: 1 => 255\n",
      "238: 1 => 255\n",
      "239: 1 => 255\n",
      "240: 1 => 255\n",
      "241: 1 => 255\n",
      "242: 1 => 255\n",
      "243: 1 => 255\n",
      "244: 1 => 255\n",
      "245: 1 => 255\n",
      "246: 1 => 255\n",
      "247: 1 => 255\n",
      "248: 1 => 255\n",
      "249: 1 => 255\n",
      "250: 1 => 255\n",
      "251: 1 => 255\n",
      "252: 1 => 255\n",
      "253: 1 => 255\n",
      "254: 1 => 255\n",
      "255: 1 => 255\n",
      "256: 1 => 255\n",
      "257: 1 => 255\n",
      "258: 1 => 255\n",
      "259: 1 => 255\n",
      "260: 1 => 255\n",
      "261: 1 => 255\n",
      "262: 1 => 255\n",
      "263: 1 => 255\n",
      "264: 1 => 255\n",
      "265: 1 => 255\n",
      "266: 1 => 255\n",
      "267: 1 => 255\n",
      "268: 1 => 255\n",
      "269: 1 => 255\n",
      "270: 1 => 255\n",
      "271: 1 => 255\n",
      "272: 1 => 255\n",
      "273: 1 => 255\n",
      "274: 1 => 255\n",
      "275: 1 => 255\n"
     ]
    }
   ],
   "source": [
    "dd = \"/home/pstwh/.wine/dosdevices/c:/users/pstwh/Área de Trabalho\"\n",
    "brand = \"AUDI-SEAT-SKODA-VW - \"\n",
    "name = \"VAG - 8A0 959 655 C Bosch 0 285 001 038 - MP 68HC11E9\"\n",
    "clean = open(f'{dd}/xxx.bin', 'rb')\n",
    "notclean = open(f'{dd}/file.bin', 'rb')\n",
    "result = zip(clean.read(), notclean.read())\n",
    "r = '['\n",
    "for idx, (c, n) in enumerate(result):\n",
    "    if(c != n):\n",
    "        r += f'[{idx},{c}],'\n",
    "        print(f\"{idx}: {n} => {c}\")\n",
    "r = r[:-1]\n",
    "r += ']'\n",
    "\n",
    "with open(f'{brand}{name}.json', 'w') as f:\n",
    "    f.write(r)\n"
   ]
  },
  {
   "cell_type": "code",
   "execution_count": null,
   "metadata": {},
   "outputs": [],
   "source": []
  }
 ],
 "metadata": {
  "kernelspec": {
   "display_name": "Python 3",
   "language": "python",
   "name": "python3"
  },
  "language_info": {
   "codemirror_mode": {
    "name": "ipython",
    "version": 3
   },
   "file_extension": ".py",
   "mimetype": "text/x-python",
   "name": "python",
   "nbconvert_exporter": "python",
   "pygments_lexer": "ipython3",
   "version": "3.7.6"
  }
 },
 "nbformat": 4,
 "nbformat_minor": 4
}
