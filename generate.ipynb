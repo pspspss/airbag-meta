{
 "cells": [
  {
   "cell_type": "code",
   "execution_count": 84,
   "metadata": {},
   "outputs": [],
   "source": [
    "file = [1] * 8*4*1024"
   ]
  },
  {
   "cell_type": "code",
   "execution_count": 85,
   "metadata": {},
   "outputs": [],
   "source": [
    "f = open('/home/pstwh/.wine/dosdevices/c:/users/pstwh/Área de Trabalho/e320file.bin', 'wb')\n",
    "f.write(bytearray(file))\n",
    "f.close()"
   ]
  },
  {
   "cell_type": "code",
   "execution_count": null,
   "metadata": {},
   "outputs": [],
   "source": [
    " INFO SC BE07BD57BD57BD54 MK L52H"
   ]
  },
  {
   "cell_type": "code",
   "execution_count": null,
   "metadata": {},
   "outputs": [],
   "source": [
    "#incorreto\n",
    "VAG - 6Q0 909 605 T  Siemens - MP 68HC908AZ60\n",
    "VAG - 8L0 959 655 A Bosch 0 285 001 174 - MP 68HC11KA4\n",
    "Fiat Idea - TRW 51765169 - EEPROM 95160\n",
    "Fiat Punto III - TRW 51719095 - EEPROM 24LC04\n",
    "Ford Escape - 5L84 14B321 DE - EEPROM 95160\n",
    "Ford Fiesta - Siemens 2S6A 14B056 AA - EEPROM 95160\n",
    "Ford Fiesta - Siemens 2S6T 14B056 EM - EEPROM 95160\n",
    "Ford Fusion - Siemens 2S6T 14B056 EM - EEPROM 95160\n",
    "Ford Fusion - Siemens 2S6T 14B056 EN  5WK43103 - EEPROM 95160\n",
    "Ford Mondeo - AS7T 14B321 AC - EEPROM 95320\n",
    "Ford Transit - Bosch 0 285 001 393 - MP HC12BE32\n",
    "Chevrolet Aveo - 96 430 714 - EEPROM 95080\n",
    "Chevrolet Cavalier - 22 674 098 - MP 68HC908AS20\n",
    "Chrysler - Termic 001 820 21 26 - MP 68HC11KA4"
   ]
  },
  {
   "cell_type": "code",
   "execution_count": null,
   "metadata": {},
   "outputs": [],
   "source": [
    "ACURA\n",
    "AUDI SEAT SKODA VW\n",
    "BUICK\n",
    "FORD\n",
    "FIAT\n",
    "CADDILLAC\n",
    "CHEVROLET\n",
    "CHRYSLER"
   ]
  },
  {
   "cell_type": "code",
   "execution_count": 14,
   "metadata": {},
   "outputs": [],
   "source": [
    "import json"
   ]
  },
  {
   "cell_type": "code",
   "execution_count": 486,
   "metadata": {},
   "outputs": [
    {
     "name": "stdout",
     "output_type": "stream",
     "text": [
      "369: 1 => 0\n",
      "370: 1 => 0\n",
      "371: 1 => 0\n",
      "372: 1 => 0\n",
      "373: 1 => 0\n",
      "374: 1 => 0\n",
      "375: 1 => 0\n",
      "376: 1 => 0\n",
      "377: 1 => 0\n",
      "378: 1 => 0\n"
     ]
    }
   ],
   "source": [
    "dd = \"/home/pstwh/.wine/dosdevices/c:/users/pstwh/Área de Trabalho\"\n",
    "brand = \"CITROEN - \"\n",
    "name = \"Citroen Xsara Picasso - Autoliv 96 467 6 80 AT Autoliv  550 77 63 00 - EEPROM 93C66\"\n",
    "clean = open(f'{dd}/xxx.bin', 'rb')\n",
    "notclean = open(f'{dd}/file.bin', 'rb')\n",
    "result = zip(clean.read(), notclean.read())\n",
    "r = '['\n",
    "for idx, (c, n) in enumerate(result):\n",
    "    if(c != n):\n",
    "        r += f'[{idx},{c}],'\n",
    "        print(f\"{idx}: {n} => {c}\")\n",
    "r = r[:-1]\n",
    "r += ']'\n",
    "\n",
    "with open(f'{brand}{name}.json', 'w') as f:\n",
    "    f.write(r)\n"
   ]
  },
  {
   "cell_type": "code",
   "execution_count": null,
   "metadata": {},
   "outputs": [],
   "source": []
  }
 ],
 "metadata": {
  "kernelspec": {
   "display_name": "Python 3",
   "language": "python",
   "name": "python3"
  },
  "language_info": {
   "codemirror_mode": {
    "name": "ipython",
    "version": 3
   },
   "file_extension": ".py",
   "mimetype": "text/x-python",
   "name": "python",
   "nbconvert_exporter": "python",
   "pygments_lexer": "ipython3",
   "version": "3.7.6"
  }
 },
 "nbformat": 4,
 "nbformat_minor": 4
}
