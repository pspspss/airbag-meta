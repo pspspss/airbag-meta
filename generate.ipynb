{
 "cells": [
  {
   "cell_type": "code",
   "execution_count": 84,
   "metadata": {},
   "outputs": [],
   "source": [
    "file = [1] * 8*4*1024"
   ]
  },
  {
   "cell_type": "code",
   "execution_count": 85,
   "metadata": {},
   "outputs": [],
   "source": [
    "f = open('/home/pstwh/.wine/dosdevices/c:/users/pstwh/Área de Trabalho/e320file.bin', 'wb')\n",
    "f.write(bytearray(file))\n",
    "f.close()"
   ]
  },
  {
   "cell_type": "code",
   "execution_count": null,
   "metadata": {},
   "outputs": [],
   "source": [
    " INFO SC BE07BD57BD57BD54 MK L52H"
   ]
  },
  {
   "cell_type": "code",
   "execution_count": null,
   "metadata": {},
   "outputs": [],
   "source": [
    "#incorreto\n",
    "VAG - 6Q0 909 605 T  Siemens - MP 68HC908AZ60\n",
    "VAG - 8L0 959 655 A Bosch 0 285 001 174 - MP 68HC11KA4\n",
    "Fiat Idea - TRW 51765169 - EEPROM 95160\n",
    "Fiat Punto III - TRW 51719095 - EEPROM 24LC04\n",
    "Ford Escape - 5L84 14B321 DE - EEPROM 95160\n",
    "Ford Fiesta - Siemens 2S6A 14B056 AA - EEPROM 95160\n",
    "Ford Fiesta - Siemens 2S6T 14B056 EM - EEPROM 95160\n",
    "Ford Fusion - Siemens 2S6T 14B056 EM - EEPROM 95160\n",
    "Ford Fusion - Siemens 2S6T 14B056 EN  5WK43103 - EEPROM 95160\n",
    "Ford Mondeo - AS7T 14B321 AC - EEPROM 95320\n",
    "Ford Transit - Bosch 0 285 001 393 - MP HC12BE32\n",
    "Chevrolet Aveo - 96 430 714 - EEPROM 95080\n",
    "Chevrolet Cavalier - 22 674 098 - MP 68HC908AS20\n",
    "Chrysler - Termic 001 820 21 26 - MP 68HC11KA4"
   ]
  },
  {
   "cell_type": "code",
   "execution_count": null,
   "metadata": {},
   "outputs": [],
   "source": [
    "ACURA\n",
    "ALFA ROMEO\n",
    "AUDI SEAT SKODA VW\n",
    "BUICK\n",
    "FORD\n",
    "FIAT\n",
    "CADDILLAC\n",
    "CHEVROLET\n",
    "CHRYSLER\n",
    "CITROEN\n",
    "DACIA\n",
    "DAIHATSU\n",
    "DODGE\n",
    "HONDA\n",
    "HYUNDAI\n"
   ]
  },
  {
   "cell_type": "code",
   "execution_count": 14,
   "metadata": {},
   "outputs": [],
   "source": [
    "import json"
   ]
  },
  {
   "cell_type": "code",
   "execution_count": 189,
   "metadata": {},
   "outputs": [
    {
     "name": "stdout",
     "output_type": "stream",
     "text": [
      "160: 1 => 255\n",
      "161: 1 => 255\n",
      "162: 1 => 255\n",
      "163: 1 => 255\n",
      "164: 1 => 255\n",
      "165: 1 => 255\n",
      "166: 1 => 255\n",
      "167: 1 => 255\n",
      "168: 1 => 255\n",
      "169: 1 => 255\n",
      "170: 1 => 255\n",
      "171: 1 => 255\n",
      "172: 1 => 255\n",
      "173: 1 => 255\n",
      "174: 1 => 255\n",
      "175: 1 => 255\n",
      "176: 1 => 255\n",
      "177: 1 => 255\n",
      "178: 1 => 255\n",
      "179: 1 => 255\n",
      "180: 1 => 255\n",
      "181: 1 => 255\n",
      "182: 1 => 255\n",
      "183: 1 => 255\n",
      "184: 1 => 255\n",
      "185: 1 => 255\n",
      "186: 1 => 255\n",
      "187: 1 => 255\n",
      "188: 1 => 255\n",
      "189: 1 => 255\n",
      "190: 1 => 255\n",
      "191: 1 => 255\n",
      "192: 1 => 255\n",
      "193: 1 => 255\n",
      "194: 1 => 255\n",
      "195: 1 => 255\n",
      "196: 1 => 255\n",
      "197: 1 => 255\n",
      "198: 1 => 255\n",
      "199: 1 => 255\n",
      "200: 1 => 255\n",
      "201: 1 => 255\n",
      "202: 1 => 255\n",
      "203: 1 => 255\n",
      "204: 1 => 255\n",
      "205: 1 => 255\n",
      "206: 1 => 255\n",
      "207: 1 => 255\n"
     ]
    }
   ],
   "source": [
    "dd = \"/home/pstwh/.wine/dosdevices/c:/users/pstwh/Área de Trabalho\"\n",
    "brand = \"INFINITI - \"\n",
    "name = \"Infiniti QX56 - 98820CR900 - EEPROM 93C56\"\n",
    "clean = open(f'{dd}/xxx.bin', 'rb')\n",
    "notclean = open(f'{dd}/file.bin', 'rb')\n",
    "result = zip(clean.read(), notclean.read())\n",
    "r = '['\n",
    "for idx, (c, n) in enumerate(result):\n",
    "    if(c != n):\n",
    "        r += f'[{idx},{c}],'\n",
    "        print(f\"{idx}: {n} => {c}\")\n",
    "r = r[:-1]\n",
    "r += ']'\n",
    "\n",
    "with open(f'{brand}{name}.json', 'w') as f:\n",
    "    f.write(r)\n"
   ]
  },
  {
   "cell_type": "code",
   "execution_count": null,
   "metadata": {},
   "outputs": [],
   "source": []
  }
 ],
 "metadata": {
  "kernelspec": {
   "display_name": "Python 3",
   "language": "python",
   "name": "python3"
  },
  "language_info": {
   "codemirror_mode": {
    "name": "ipython",
    "version": 3
   },
   "file_extension": ".py",
   "mimetype": "text/x-python",
   "name": "python",
   "nbconvert_exporter": "python",
   "pygments_lexer": "ipython3",
   "version": "3.7.6"
  }
 },
 "nbformat": 4,
 "nbformat_minor": 4
}
