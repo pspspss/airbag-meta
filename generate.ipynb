{
 "cells": [
  {
   "cell_type": "code",
   "execution_count": 84,
   "metadata": {},
   "outputs": [],
   "source": [
    "file = [1] * 8*4*1024"
   ]
  },
  {
   "cell_type": "code",
   "execution_count": 85,
   "metadata": {},
   "outputs": [],
   "source": [
    "f = open('/home/pstwh/.wine/dosdevices/c:/users/pstwh/Área de Trabalho/e320file.bin', 'wb')\n",
    "f.write(bytearray(file))\n",
    "f.close()"
   ]
  },
  {
   "cell_type": "code",
   "execution_count": null,
   "metadata": {},
   "outputs": [],
   "source": [
    " INFO SC BE07BD57BD57BD54 MK L52H"
   ]
  },
  {
   "cell_type": "code",
   "execution_count": null,
   "metadata": {},
   "outputs": [],
   "source": [
    "#incorreto\n",
    "VAG - 6Q0 909 605 T  Siemens - MP 68HC908AZ60\n",
    "VAG - 8L0 959 655 A Bosch 0 285 001 174 - MP 68HC11KA4\n",
    "Fiat Idea - TRW 51765169 - EEPROM 95160\n",
    "Fiat Punto III - TRW 51719095 - EEPROM 24LC04\n",
    "Ford Escape - 5L84 14B321 DE - EEPROM 95160\n",
    "Ford Fiesta - Siemens 2S6A 14B056 AA - EEPROM 95160\n",
    "Ford Fiesta - Siemens 2S6T 14B056 EM - EEPROM 95160\n",
    "Ford Fusion - Siemens 2S6T 14B056 EM - EEPROM 95160\n",
    "Ford Fusion - Siemens 2S6T 14B056 EN  5WK43103 - EEPROM 95160\n",
    "Ford Mondeo - AS7T 14B321 AC - EEPROM 95320\n",
    "Ford Transit - Bosch 0 285 001 393 - MP HC12BE32\n",
    "Chevrolet Aveo - 96 430 714 - EEPROM 95080\n",
    "Chevrolet Cavalier - 22 674 098 - MP 68HC908AS20\n",
    "Chrysler - Termic 001 820 21 26 - MP 68HC11KA4"
   ]
  },
  {
   "cell_type": "code",
   "execution_count": null,
   "metadata": {},
   "outputs": [],
   "source": [
    "ACURA\n",
    "AUDI SEAT SKODA VW\n",
    "BUICK\n",
    "FORD\n",
    "FIAT\n",
    "CADDILLAC\n",
    "CHEVROLET"
   ]
  },
  {
   "cell_type": "code",
   "execution_count": 14,
   "metadata": {},
   "outputs": [],
   "source": [
    "import json"
   ]
  },
  {
   "cell_type": "code",
   "execution_count": 400,
   "metadata": {},
   "outputs": [
    {
     "name": "stdout",
     "output_type": "stream",
     "text": [
      "48: 1 => 255\n",
      "49: 1 => 255\n",
      "50: 1 => 255\n",
      "51: 1 => 255\n",
      "52: 1 => 255\n",
      "53: 1 => 255\n",
      "54: 1 => 255\n",
      "55: 1 => 255\n",
      "56: 1 => 255\n",
      "57: 1 => 255\n",
      "58: 1 => 255\n",
      "59: 1 => 255\n",
      "60: 1 => 255\n",
      "61: 1 => 255\n",
      "62: 1 => 255\n",
      "63: 1 => 255\n",
      "64: 1 => 255\n",
      "65: 1 => 255\n",
      "66: 1 => 255\n",
      "67: 1 => 255\n",
      "68: 1 => 255\n",
      "69: 1 => 255\n",
      "70: 1 => 255\n",
      "71: 1 => 255\n",
      "72: 1 => 255\n",
      "73: 1 => 255\n",
      "74: 1 => 255\n",
      "75: 1 => 255\n",
      "76: 1 => 255\n",
      "77: 1 => 255\n",
      "78: 1 => 255\n",
      "79: 1 => 255\n",
      "80: 1 => 255\n",
      "81: 1 => 255\n",
      "82: 1 => 255\n",
      "83: 1 => 255\n",
      "84: 1 => 255\n",
      "85: 1 => 255\n",
      "86: 1 => 255\n",
      "87: 1 => 255\n",
      "88: 1 => 255\n",
      "89: 1 => 255\n",
      "90: 1 => 255\n",
      "91: 1 => 255\n",
      "92: 1 => 255\n",
      "93: 1 => 255\n",
      "94: 1 => 255\n",
      "95: 1 => 255\n",
      "118: 1 => 255\n",
      "119: 1 => 255\n",
      "120: 1 => 255\n",
      "121: 1 => 255\n",
      "122: 1 => 255\n",
      "123: 1 => 255\n",
      "124: 1 => 255\n",
      "125: 1 => 255\n",
      "126: 1 => 255\n",
      "127: 1 => 255\n",
      "128: 1 => 255\n",
      "129: 1 => 255\n",
      "130: 1 => 255\n",
      "131: 1 => 255\n",
      "132: 1 => 255\n",
      "133: 1 => 255\n",
      "134: 1 => 255\n",
      "135: 1 => 255\n",
      "136: 1 => 255\n",
      "137: 1 => 255\n",
      "138: 1 => 255\n",
      "139: 1 => 255\n",
      "140: 1 => 255\n",
      "141: 1 => 255\n",
      "142: 1 => 255\n",
      "143: 1 => 255\n"
     ]
    }
   ],
   "source": [
    "dd = \"/home/pstwh/.wine/dosdevices/c:/users/pstwh/Área de Trabalho\"\n",
    "brand = \"CHRYSLER - \"\n",
    "name = \"Chrysler - Termic 002 820 21 26 - MP 68HC912B32\"\n",
    "clean = open(f'{dd}/xxx.bin', 'rb')\n",
    "notclean = open(f'{dd}/file.bin', 'rb')\n",
    "result = zip(clean.read(), notclean.read())\n",
    "r = '['\n",
    "for idx, (c, n) in enumerate(result):\n",
    "    if(c != n):\n",
    "        r += f'[{idx},{c}],'\n",
    "        print(f\"{idx}: {n} => {c}\")\n",
    "r = r[:-1]\n",
    "r += ']'\n",
    "\n",
    "with open(f'{brand}{name}.json', 'w') as f:\n",
    "    f.write(r)\n"
   ]
  },
  {
   "cell_type": "code",
   "execution_count": null,
   "metadata": {},
   "outputs": [],
   "source": []
  }
 ],
 "metadata": {
  "kernelspec": {
   "display_name": "Python 3",
   "language": "python",
   "name": "python3"
  },
  "language_info": {
   "codemirror_mode": {
    "name": "ipython",
    "version": 3
   },
   "file_extension": ".py",
   "mimetype": "text/x-python",
   "name": "python",
   "nbconvert_exporter": "python",
   "pygments_lexer": "ipython3",
   "version": "3.7.6"
  }
 },
 "nbformat": 4,
 "nbformat_minor": 4
}
