{
 "cells": [
  {
   "cell_type": "code",
   "execution_count": 84,
   "metadata": {},
   "outputs": [],
   "source": [
    "file = [1] * 8*4*1024"
   ]
  },
  {
   "cell_type": "code",
   "execution_count": 85,
   "metadata": {},
   "outputs": [],
   "source": [
    "f = open('/home/pstwh/.wine/dosdevices/c:/users/pstwh/Área de Trabalho/e320file.bin', 'wb')\n",
    "f.write(bytearray(file))\n",
    "f.close()"
   ]
  },
  {
   "cell_type": "code",
   "execution_count": null,
   "metadata": {},
   "outputs": [],
   "source": [
    " INFO SC BE07BD57BD57BD54 MK L52H"
   ]
  },
  {
   "cell_type": "code",
   "execution_count": null,
   "metadata": {},
   "outputs": [],
   "source": [
    "#incorreto\n",
    "VAG - 6Q0 909 605 T  Siemens - MP 68HC908AZ60\n",
    "VAG - 8L0 959 655 A Bosch 0 285 001 174 - MP 68HC11KA4\n",
    "Fiat Idea - TRW 51765169 - EEPROM 95160\n",
    "Fiat Punto III - TRW 51719095 - EEPROM 24LC04\n",
    "Ford Escape - 5L84 14B321 DE - EEPROM 95160\n",
    "Ford Fiesta - Siemens 2S6A 14B056 AA - EEPROM 95160\n",
    "Ford Fiesta - Siemens 2S6T 14B056 EM - EEPROM 95160\n",
    "Ford Fusion - Siemens 2S6T 14B056 EM - EEPROM 95160\n",
    "Ford Fusion - Siemens 2S6T 14B056 EN  5WK43103 - EEPROM 95160\n",
    "Ford Mondeo - AS7T 14B321 AC - EEPROM 95320\n",
    "Ford Transit - Bosch 0 285 001 393 - MP HC12BE32\n",
    "Chevrolet Aveo - 96 430 714 - EEPROM 95080\n",
    "Chevrolet Cavalier - 22 674 098 - MP 68HC908AS20\n",
    "Chrysler - Termic 001 820 21 26 - MP 68HC11KA4"
   ]
  },
  {
   "cell_type": "code",
   "execution_count": null,
   "metadata": {},
   "outputs": [],
   "source": [
    "ACURA\n",
    "ALFA ROMEO\n",
    "AUDI SEAT SKODA VW\n",
    "BUICK\n",
    "FORD\n",
    "FIAT\n",
    "CADDILLAC\n",
    "CHEVROLET\n",
    "CHRYSLER\n",
    "CITROEN\n",
    "DACIA\n",
    "DAIHATSU\n",
    "DODGE\n",
    "HONDA"
   ]
  },
  {
   "cell_type": "code",
   "execution_count": 14,
   "metadata": {},
   "outputs": [],
   "source": [
    "import json"
   ]
  },
  {
   "cell_type": "code",
   "execution_count": 83,
   "metadata": {},
   "outputs": [
    {
     "name": "stdout",
     "output_type": "stream",
     "text": [
      "0: 1 => 0\n",
      "1: 1 => 0\n",
      "2: 1 => 0\n",
      "3: 1 => 0\n",
      "4: 1 => 0\n",
      "5: 1 => 0\n",
      "6: 1 => 0\n",
      "7: 1 => 0\n",
      "8: 1 => 0\n",
      "9: 1 => 0\n",
      "10: 1 => 0\n",
      "11: 1 => 0\n",
      "12: 1 => 0\n",
      "13: 1 => 0\n",
      "14: 1 => 0\n",
      "15: 1 => 0\n",
      "16: 1 => 0\n",
      "17: 1 => 0\n",
      "18: 1 => 0\n",
      "19: 1 => 0\n",
      "20: 1 => 0\n",
      "21: 1 => 0\n",
      "22: 1 => 0\n",
      "23: 1 => 0\n",
      "24: 1 => 0\n",
      "25: 1 => 0\n",
      "26: 1 => 0\n",
      "27: 1 => 0\n",
      "28: 1 => 0\n",
      "29: 1 => 0\n",
      "30: 1 => 0\n",
      "31: 1 => 0\n"
     ]
    }
   ],
   "source": [
    "dd = \"/home/pstwh/.wine/dosdevices/c:/users/pstwh/Área de Trabalho\"\n",
    "brand = \"HONDA - \"\n",
    "name = \"Honda Shuttle - TRW 77960-SX0-A82 - EEPROM 25040\"\n",
    "clean = open(f'{dd}/xxx.bin', 'rb')\n",
    "notclean = open(f'{dd}/file.bin', 'rb')\n",
    "result = zip(clean.read(), notclean.read())\n",
    "r = '['\n",
    "for idx, (c, n) in enumerate(result):\n",
    "    if(c != n):\n",
    "        r += f'[{idx},{c}],'\n",
    "        print(f\"{idx}: {n} => {c}\")\n",
    "r = r[:-1]\n",
    "r += ']'\n",
    "\n",
    "with open(f'{brand}{name}.json', 'w') as f:\n",
    "    f.write(r)\n"
   ]
  },
  {
   "cell_type": "code",
   "execution_count": null,
   "metadata": {},
   "outputs": [],
   "source": []
  }
 ],
 "metadata": {
  "kernelspec": {
   "display_name": "Python 3",
   "language": "python",
   "name": "python3"
  },
  "language_info": {
   "codemirror_mode": {
    "name": "ipython",
    "version": 3
   },
   "file_extension": ".py",
   "mimetype": "text/x-python",
   "name": "python",
   "nbconvert_exporter": "python",
   "pygments_lexer": "ipython3",
   "version": "3.7.6"
  }
 },
 "nbformat": 4,
 "nbformat_minor": 4
}
